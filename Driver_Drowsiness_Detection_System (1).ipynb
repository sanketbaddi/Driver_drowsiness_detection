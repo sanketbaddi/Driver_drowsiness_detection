{
 "cells": [
  {
   "cell_type": "code",
   "execution_count": 1,
   "id": "ea38b879",
   "metadata": {},
   "outputs": [
    {
     "ename": "ModuleNotFoundError",
     "evalue": "No module named 'imutils'",
     "output_type": "error",
     "traceback": [
      "\u001b[1;31m---------------------------------------------------------------------------\u001b[0m",
      "\u001b[1;31mModuleNotFoundError\u001b[0m                       Traceback (most recent call last)",
      "\u001b[1;32m<ipython-input-1-1007aedca069>\u001b[0m in \u001b[0;36m<module>\u001b[1;34m\u001b[0m\n\u001b[0;32m      1\u001b[0m \u001b[1;32mimport\u001b[0m \u001b[0mcv2\u001b[0m\u001b[1;33m\u001b[0m\u001b[1;33m\u001b[0m\u001b[0m\n\u001b[1;32m----> 2\u001b[1;33m \u001b[1;32mfrom\u001b[0m \u001b[0mimutils\u001b[0m \u001b[1;32mimport\u001b[0m \u001b[0mface_utils\u001b[0m\u001b[1;33m\u001b[0m\u001b[1;33m\u001b[0m\u001b[0m\n\u001b[0m\u001b[0;32m      3\u001b[0m \u001b[1;32mimport\u001b[0m \u001b[0mdlib\u001b[0m\u001b[1;33m\u001b[0m\u001b[1;33m\u001b[0m\u001b[0m\n\u001b[0;32m      4\u001b[0m \u001b[1;32mimport\u001b[0m \u001b[0mnumpy\u001b[0m \u001b[1;32mas\u001b[0m \u001b[0mnp\u001b[0m\u001b[1;33m\u001b[0m\u001b[1;33m\u001b[0m\u001b[0m\n\u001b[0;32m      5\u001b[0m \u001b[0mcv2\u001b[0m\u001b[1;33m.\u001b[0m\u001b[0mstartWindowThread\u001b[0m\u001b[1;33m(\u001b[0m\u001b[1;33m)\u001b[0m\u001b[1;33m\u001b[0m\u001b[1;33m\u001b[0m\u001b[0m\n",
      "\u001b[1;31mModuleNotFoundError\u001b[0m: No module named 'imutils'"
     ]
    }
   ],
   "source": [
    "import cv2\n",
    "from imutils import face_utils\n",
    "import dlib\n",
    "import numpy as np\n",
    "cv2.startWindowThread()\n",
    "%matplotlib inline\n",
    "from matplotlib import pyplot as plt\n",
    "cap= cv2.VideoCapture(0)\n",
    "detector=dlib.get_frontal_face_detector()\n",
    "predictor=dlib.shape_predictor(\"shape_predictor_68_face_landmarks.dat\")\n",
    "sleep = 0\n",
    "drowsy = 0\n",
    "active = 0\n",
    "status=\"\"\n",
    "color=(0,0,0)\n",
    "def compute(ptA,ptB):\n",
    "\tdist = np.linalg.norm(ptA - ptB)\n",
    "\treturn dist\n",
    "\n",
    "def blinked(a,b,c,d,e,f):\n",
    "\tup = compute(b,d) + compute(c,e)\n",
    "\tdown = compute(a,f)\n",
    "\tratio = up/(2.0*down)\n",
    "\n",
    "\t#Checking if it is blinked\n",
    "\tif(ratio>0.25):\n",
    "\t\treturn 2\n",
    "\telif(ratio>0.21 and ratio<=0.25):\n",
    "\t\treturn 1\n",
    "\telse:\n",
    "\t\treturn 0\n",
    "    \n",
    "while True:\n",
    "    _, frame = cap.read()\n",
    "    gray = cv2.cvtColor(frame, cv2.COLOR_BGR2GRAY)\n",
    "\n",
    "    faces = detector(gray)\n",
    "    #detected face in faces array\n",
    "    for face in faces:\n",
    "        x1 = face.left()\n",
    "        y1 = face.top()\n",
    "        x2 = face.right()\n",
    "        y2 = face.bottom()\n",
    "\n",
    "        face_frame = frame.copy()\n",
    "        cv2.rectangle(face_frame, (x1, y1), (x2, y2), (0, 255, 0), 2)\n",
    "\n",
    "        landmarks = predictor(gray, face)\n",
    "        landmarks = face_utils.shape_to_np(landmarks)\n",
    "\n",
    "        #The numbers are actually the landmarks which will show eye\n",
    "        left_blink = blinked(landmarks[36],landmarks[37], \n",
    "        \tlandmarks[38], landmarks[41], landmarks[40], landmarks[39])\n",
    "        right_blink = blinked(landmarks[42],landmarks[43], \n",
    "        \tlandmarks[44], landmarks[47], landmarks[46], landmarks[45])\n",
    "        \n",
    "        #Now judge what to do for the eye blinks\n",
    "        if(left_blink==0 or right_blink==0):\n",
    "        \tsleep+=1\n",
    "        \tdrowsy=0\n",
    "        \tactive=0\n",
    "        \tif(sleep>6):\n",
    "        \t\tstatus=\"SLEEPING !!!\"\n",
    "        \t\tcolor = (255,0,0)\n",
    "\n",
    "        elif(left_blink==1 or right_blink==1):\n",
    "        \tsleep=0\n",
    "        \tactive=0\n",
    "        \tdrowsy+=1\n",
    "        \tif(drowsy>6):\n",
    "        \t\tstatus=\"Drowsy !\"\n",
    "        \t\tcolor = (0,0,255)\n",
    "\n",
    "        else:\n",
    "        \tdrowsy=0\n",
    "        \tsleep=0\n",
    "        \tactive+=1\n",
    "        \tif(active>6):\n",
    "        \t\tstatus=\"Active :)\"\n",
    "        \t\tcolor = (0,255,0)\n",
    "        \t\n",
    "        cv2.putText(frame, status, (100,100), cv2.FONT_HERSHEY_SIMPLEX, 1.2, color,3)\n",
    "\n",
    "        for n in range(0, 68):\n",
    "        \t(x,y) = landmarks[n]\n",
    "        \tcv2.circle(face_frame, (x, y), 1, (255, 255, 255), -1)\n",
    "\n",
    "    cv2.imshow(\"Frame\", frame)\n",
    "    key=cv2.imshow(\"Result of detector\", face_frame)\n",
    "    cv2.waitKey(0)\n",
    "    if key == 27:  # if no key was pressed, -1 is returned\n",
    "#         continue\n",
    "#     else:\n",
    "        break\n",
    "    cv2.destroyAllWindows()\n",
    "    #cv2.waitKey(1)\n",
    "    \n",
    "\n",
    "\n",
    "\n",
    "\n"
   ]
  },
  {
   "cell_type": "code",
   "execution_count": null,
   "id": "394ef2df",
   "metadata": {},
   "outputs": [],
   "source": []
  },
  {
   "cell_type": "code",
   "execution_count": null,
   "id": "8d7e05dc",
   "metadata": {},
   "outputs": [],
   "source": []
  },
  {
   "cell_type": "code",
   "execution_count": null,
   "id": "bba09173",
   "metadata": {},
   "outputs": [],
   "source": [
    "\n"
   ]
  },
  {
   "cell_type": "code",
   "execution_count": null,
   "id": "6d2969c3",
   "metadata": {},
   "outputs": [],
   "source": [
    "\n"
   ]
  },
  {
   "cell_type": "code",
   "execution_count": null,
   "id": "a730425c",
   "metadata": {},
   "outputs": [],
   "source": []
  },
  {
   "cell_type": "code",
   "execution_count": null,
   "id": "d5edf5d0",
   "metadata": {},
   "outputs": [],
   "source": [
    "\n"
   ]
  },
  {
   "cell_type": "code",
   "execution_count": null,
   "id": "3a0d57a8",
   "metadata": {},
   "outputs": [],
   "source": [
    "\n",
    "    \n",
    "    #plt.imshow(image)\n",
    "    #plt.show()\n",
    "    \n",
    "\n",
    "    "
   ]
  },
  {
   "cell_type": "code",
   "execution_count": null,
   "id": "49704aca",
   "metadata": {},
   "outputs": [],
   "source": []
  },
  {
   "cell_type": "code",
   "execution_count": null,
   "id": "caaa0c14",
   "metadata": {},
   "outputs": [],
   "source": []
  },
  {
   "cell_type": "code",
   "execution_count": null,
   "id": "fc89136e",
   "metadata": {},
   "outputs": [],
   "source": [
    "\n"
   ]
  },
  {
   "cell_type": "code",
   "execution_count": null,
   "id": "902be623",
   "metadata": {},
   "outputs": [],
   "source": []
  },
  {
   "cell_type": "code",
   "execution_count": null,
   "id": "5800c72b",
   "metadata": {},
   "outputs": [],
   "source": []
  },
  {
   "cell_type": "code",
   "execution_count": null,
   "id": "39f8c9dc",
   "metadata": {},
   "outputs": [],
   "source": []
  },
  {
   "cell_type": "code",
   "execution_count": null,
   "id": "cee26236",
   "metadata": {},
   "outputs": [],
   "source": []
  }
 ],
 "metadata": {
  "kernelspec": {
   "display_name": "Python 3",
   "language": "python",
   "name": "python3"
  },
  "language_info": {
   "codemirror_mode": {
    "name": "ipython",
    "version": 3
   },
   "file_extension": ".py",
   "mimetype": "text/x-python",
   "name": "python",
   "nbconvert_exporter": "python",
   "pygments_lexer": "ipython3",
   "version": "3.8.11"
  }
 },
 "nbformat": 4,
 "nbformat_minor": 5
}
